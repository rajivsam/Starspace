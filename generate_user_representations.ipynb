{
 "cells": [
  {
   "cell_type": "markdown",
   "metadata": {},
   "source": [
    "## Generate Invoice Embeddings\n",
    "To generate the invoice embeddings run the Starspace model on the pre-processed input file that lists the invoices associated with each user. This is the output of the notebook preprocessing_model_1_retail. \n",
    "<img src = gen_embeddings.png style=\"height:60%;\">"
   ]
  },
  {
   "cell_type": "markdown",
   "metadata": {},
   "source": [
    "## Create a Lookup to Retrieve Representation for a Given Invoice"
   ]
  },
  {
   "cell_type": "code",
   "execution_count": 1,
   "metadata": {},
   "outputs": [],
   "source": [
    "import os\n",
    "import dask.dataframe as dd\n",
    "import pandas as pd\n",
    "os.chdir(\"/home/admin123/Starspace/\")\n",
    "fp = \"/home/admin123/Starspace/\"+ \"data/pagespace.tsv\"\n",
    "df = pd.read_csv(fp, sep = \"\\t\", header = None)"
   ]
  },
  {
   "cell_type": "markdown",
   "metadata": {},
   "source": [
    "### Implementation Notes:\n",
    "The generated invoice embeddings are 100 columns long for each invoice. The first column in the datafile is the invoice and the other 100 columns are the latent representation. So we first setup the column names accordingly in the pandas dataframe. Note that the separator has to be a tab and the header should be set to None (no headers in the generated file). The following lines set up the header for the generated invoice embedding file"
   ]
  },
  {
   "cell_type": "code",
   "execution_count": 2,
   "metadata": {},
   "outputs": [],
   "source": [
    "rep_cols = [\"lcol_\" + str(i+1) for i in range(100)]\n",
    "cols = [\"itemcode\"] + rep_cols\n",
    "df.columns = cols"
   ]
  },
  {
   "cell_type": "markdown",
   "metadata": {},
   "source": [
    "### Implementation Notes:\n",
    "Create a lookup in the form of a python dictionary with the Invoice as key and the representation for the invoice as a 100 element long list. Note the use of the transpose. This is required."
   ]
  },
  {
   "cell_type": "code",
   "execution_count": 3,
   "metadata": {},
   "outputs": [],
   "source": [
    "item_dict = df.set_index(\"itemcode\").T.to_dict('list')\n",
    "del df"
   ]
  },
  {
   "cell_type": "markdown",
   "metadata": {},
   "source": [
    "### Determine Invoices For Each Customer"
   ]
  },
  {
   "cell_type": "code",
   "execution_count": 4,
   "metadata": {},
   "outputs": [],
   "source": [
    "fp = \"/home/admin123/Starspace/\"+ \"data/Online_Retail.csv\"\n",
    "df = pd.read_csv(fp)\n",
    "df = df[-df['InvoiceNo'].str.startswith(\"C\")]\n",
    "df = df[-df['StockCode'].str.startswith(\"BANK\")]\n",
    "#req_cols = [\"CustomerID\", \"InvoiceNo\", \"StockCode\"]\n",
    "#df = df[req_cols]\n",
    "df = df.dropna()\n",
    "df[\"CustomerID\"] = df[\"CustomerID\"].astype(int)\n",
    "fpp = \"/home/admin123/Starspace/data/Online_Retail_CustInvoices.txt\"\n",
    "prefix = \"itemcode_\"\n",
    "customer_items = dict()\n",
    "sep = \",\"\n",
    "od1 = dict(tuple(df.groupby([\"CustomerID\"])))\n",
    "for customer in od1.keys():\n",
    "    df_cust_items = od1[(customer)]\n",
    "    cust_items = df_cust_items[\"StockCode\"].unique().tolist()\n",
    "    cust_items = [prefix + inv for inv in cust_items]\n",
    "    customer_items[customer] = cust_items"
   ]
  },
  {
   "cell_type": "code",
   "execution_count": 5,
   "metadata": {},
   "outputs": [],
   "source": [
    "df[\"ItemTotal\"] = df[\"UnitPrice\"] * df[\"Quantity\"]\n",
    "df_inv_summary = df.groupby([\"CustomerID\",\"InvoiceNo\"]).\\\n",
    "agg({'ItemTotal': ['sum'], 'Quantity':['sum'], 'StockCode':['count']}).reset_index()\n",
    "df_inv_summary.columns = [''.join(col).strip() for col in df_inv_summary.columns]\n",
    "\n",
    "df_freq_cust = df_inv_summary.groupby('CustomerID').\\\n",
    "agg({'ItemTotalsum': ['sum'], 'InvoiceNo':['count']}).reset_index()"
   ]
  },
  {
   "cell_type": "code",
   "execution_count": 6,
   "metadata": {},
   "outputs": [
    {
     "data": {
      "text/html": [
       "<div>\n",
       "<style scoped>\n",
       "    .dataframe tbody tr th:only-of-type {\n",
       "        vertical-align: middle;\n",
       "    }\n",
       "\n",
       "    .dataframe tbody tr th {\n",
       "        vertical-align: top;\n",
       "    }\n",
       "\n",
       "    .dataframe thead th {\n",
       "        text-align: right;\n",
       "    }\n",
       "</style>\n",
       "<table border=\"1\" class=\"dataframe\">\n",
       "  <thead>\n",
       "    <tr style=\"text-align: right;\">\n",
       "      <th></th>\n",
       "      <th>CustomerID</th>\n",
       "      <th>InvoiceCount</th>\n",
       "      <th>AmountSpent</th>\n",
       "    </tr>\n",
       "  </thead>\n",
       "  <tbody>\n",
       "    <tr>\n",
       "      <th>0</th>\n",
       "      <td>12346</td>\n",
       "      <td>1</td>\n",
       "      <td>77183.60</td>\n",
       "    </tr>\n",
       "    <tr>\n",
       "      <th>1</th>\n",
       "      <td>12347</td>\n",
       "      <td>7</td>\n",
       "      <td>4310.00</td>\n",
       "    </tr>\n",
       "    <tr>\n",
       "      <th>2</th>\n",
       "      <td>12348</td>\n",
       "      <td>4</td>\n",
       "      <td>1797.24</td>\n",
       "    </tr>\n",
       "    <tr>\n",
       "      <th>3</th>\n",
       "      <td>12349</td>\n",
       "      <td>1</td>\n",
       "      <td>1757.55</td>\n",
       "    </tr>\n",
       "    <tr>\n",
       "      <th>4</th>\n",
       "      <td>12350</td>\n",
       "      <td>1</td>\n",
       "      <td>334.40</td>\n",
       "    </tr>\n",
       "  </tbody>\n",
       "</table>\n",
       "</div>"
      ],
      "text/plain": [
       "   CustomerID  InvoiceCount  AmountSpent\n",
       "0       12346             1     77183.60\n",
       "1       12347             7      4310.00\n",
       "2       12348             4      1797.24\n",
       "3       12349             1      1757.55\n",
       "4       12350             1       334.40"
      ]
     },
     "execution_count": 6,
     "metadata": {},
     "output_type": "execute_result"
    }
   ],
   "source": [
    "df_freq_cust.columns = [\"CustomerID\", \"InvoiceCount\", \"AmountSpent\"]\n",
    "df_freq_cust.head()"
   ]
  },
  {
   "cell_type": "markdown",
   "metadata": {},
   "source": [
    "### Determine User Representation\n",
    "The representation of a user is the average of his or her invoices."
   ]
  },
  {
   "cell_type": "code",
   "execution_count": 7,
   "metadata": {},
   "outputs": [],
   "source": [
    "lu_cust_visit = df_freq_cust[[\"CustomerID\", \"InvoiceCount\"]].set_index('CustomerID').T.to_dict('series')\n",
    "lu_cust_spend = df_freq_cust[[\"CustomerID\", \"AmountSpent\"]].set_index('CustomerID').T.to_dict('series')"
   ]
  },
  {
   "cell_type": "code",
   "execution_count": 8,
   "metadata": {},
   "outputs": [],
   "source": [
    "import numpy as np\n",
    "cust_rep = dict()\n",
    "for cust in customer_items:\n",
    "    inv_list = customer_items[cust]\n",
    "    inv_as_list_np_arr = [item_dict[i] for i in inv_list]\n",
    "    inv_as_np_arr = np.array(inv_as_list_np_arr)\n",
    "    avg_rep = np.mean(inv_as_np_arr, axis = 0)\n",
    "    avg_rep = np.append(avg_rep, lu_cust_visit[cust])\n",
    "    avg_rep = np.append(avg_rep, lu_cust_spend[cust])\n",
    "    cust_rep[cust] = avg_rep     "
   ]
  },
  {
   "cell_type": "code",
   "execution_count": 9,
   "metadata": {},
   "outputs": [],
   "source": [
    "import matplotlib.pyplot as plt\n",
    "import seaborn as sns"
   ]
  },
  {
   "cell_type": "code",
   "execution_count": 10,
   "metadata": {},
   "outputs": [],
   "source": [
    "dfc = pd.DataFrame(cust_rep.values())"
   ]
  },
  {
   "cell_type": "code",
   "execution_count": 11,
   "metadata": {},
   "outputs": [],
   "source": [
    "dfc[\"Customer\"] = cust_rep.keys()"
   ]
  },
  {
   "cell_type": "code",
   "execution_count": 12,
   "metadata": {},
   "outputs": [],
   "source": [
    "rep_cols = [\"lcol_\" + str(i+1) for i in range(102)]\n",
    "cols = rep_cols + [\"Customer\"]\n",
    "dfc.columns = cols"
   ]
  },
  {
   "cell_type": "markdown",
   "metadata": {},
   "source": [
    "### Visualize the Customer Embeddings Using tSNE"
   ]
  },
  {
   "cell_type": "code",
   "execution_count": 13,
   "metadata": {},
   "outputs": [],
   "source": [
    "from sklearn.manifold import TSNE\n",
    "tsne = TSNE(n_components=2, random_state=0)"
   ]
  },
  {
   "cell_type": "markdown",
   "metadata": {},
   "source": [
    "### Implementation Notes:\n",
    "The following embedding can take about 5-7 minutes to run, so please be patient."
   ]
  },
  {
   "cell_type": "code",
   "execution_count": 14,
   "metadata": {},
   "outputs": [
    {
     "name": "stderr",
     "output_type": "stream",
     "text": [
      "/home/admin123/anaconda/lib/python2.7/site-packages/ipykernel_launcher.py:1: FutureWarning: Method .as_matrix will be removed in a future version. Use .values instead.\n",
      "  \"\"\"Entry point for launching an IPython kernel.\n"
     ]
    }
   ],
   "source": [
    "X_2d = tsne.fit_transform(dfc[rep_cols].as_matrix())"
   ]
  },
  {
   "cell_type": "code",
   "execution_count": 18,
   "metadata": {},
   "outputs": [],
   "source": [
    "os.chdir(\"/home/admin123/Starspace/\")\n",
    "fp = \"/home/admin123/Starspace/\"+ \"data/starspace_tsne.csv\"\n",
    "dftsne = pd.DataFrame(X_2d)\n",
    "dftsne.columns = [\"Latent_Dim_1\", \"Latent_Dim_2\"]\n",
    "dftsne.to_csv(fp, index = False)"
   ]
  },
  {
   "cell_type": "code",
   "execution_count": 36,
   "metadata": {},
   "outputs": [
    {
     "data": {
      "image/png": "[encoded data removed]",
      "text/plain": [
       "<Figure size 432x288 with 1 Axes>"
      ]
     },
     "metadata": {},
     "output_type": "display_data"
    }
   ],
   "source": [
    "%matplotlib inline\n",
    "plt.scatter(X_2d[:, 0], X_2d[:, 1])\n",
    "plt.xlabel(\"Latent Dim 1\")\n",
    "plt.ylabel(\"Latent Dim 2\")\n",
    "plt.show()"
   ]
  },
  {
   "cell_type": "markdown",
   "metadata": {},
   "source": [
    "### Observations\n",
    "Clearly the dataset shows a complex clustering patter. Two concentric clusters are seen. This suggests two user segments. So perhaps clustering the embeddings with a kernel k-means algorithm is appropriate. To gain insight, we must cluster the dataset with an appropriate clustering algorithm and then profile the clusters."
   ]
  },
  {
   "cell_type": "code",
   "execution_count": 39,
   "metadata": {},
   "outputs": [],
   "source": [
    "os.chdir(\"/home/admin123/Starspace/\")\n",
    "fpc = \"/home/admin123/Starspace/\"+ \"data/customer_rep.csv\"\n",
    "dfc.to_csv(fpc, index = False)"
   ]
  },
  {
   "cell_type": "code",
   "execution_count": 37,
   "metadata": {},
   "outputs": [
    {
     "data": {
      "text/html": [
       "<div>\n",
       "<style scoped>\n",
       "    .dataframe tbody tr th:only-of-type {\n",
       "        vertical-align: middle;\n",
       "    }\n",
       "\n",
       "    .dataframe tbody tr th {\n",
       "        vertical-align: top;\n",
       "    }\n",
       "\n",
       "    .dataframe thead th {\n",
       "        text-align: right;\n",
       "    }\n",
       "</style>\n",
       "<table border=\"1\" class=\"dataframe\">\n",
       "  <thead>\n",
       "    <tr style=\"text-align: right;\">\n",
       "      <th></th>\n",
       "      <th>lcol_1</th>\n",
       "      <th>lcol_2</th>\n",
       "      <th>lcol_3</th>\n",
       "      <th>lcol_4</th>\n",
       "      <th>lcol_5</th>\n",
       "      <th>lcol_6</th>\n",
       "      <th>lcol_7</th>\n",
       "      <th>lcol_8</th>\n",
       "      <th>lcol_9</th>\n",
       "      <th>lcol_10</th>\n",
       "      <th>...</th>\n",
       "      <th>lcol_94</th>\n",
       "      <th>lcol_95</th>\n",
       "      <th>lcol_96</th>\n",
       "      <th>lcol_97</th>\n",
       "      <th>lcol_98</th>\n",
       "      <th>lcol_99</th>\n",
       "      <th>lcol_100</th>\n",
       "      <th>lcol_101</th>\n",
       "      <th>lcol_102</th>\n",
       "      <th>Customer</th>\n",
       "    </tr>\n",
       "  </thead>\n",
       "  <tbody>\n",
       "    <tr>\n",
       "      <th>0</th>\n",
       "      <td>0.006207</td>\n",
       "      <td>-0.010461</td>\n",
       "      <td>0.003782</td>\n",
       "      <td>-0.003536</td>\n",
       "      <td>-0.009066</td>\n",
       "      <td>0.000214</td>\n",
       "      <td>-0.003928</td>\n",
       "      <td>0.001535</td>\n",
       "      <td>0.005195</td>\n",
       "      <td>-0.001614</td>\n",
       "      <td>...</td>\n",
       "      <td>-0.005508</td>\n",
       "      <td>-0.004601</td>\n",
       "      <td>0.000400</td>\n",
       "      <td>0.004732</td>\n",
       "      <td>-0.003386</td>\n",
       "      <td>-0.002999</td>\n",
       "      <td>0.009700</td>\n",
       "      <td>2.0</td>\n",
       "      <td>584.50</td>\n",
       "      <td>16384</td>\n",
       "    </tr>\n",
       "    <tr>\n",
       "      <th>1</th>\n",
       "      <td>-0.001737</td>\n",
       "      <td>-0.002224</td>\n",
       "      <td>-0.003980</td>\n",
       "      <td>0.002041</td>\n",
       "      <td>0.002156</td>\n",
       "      <td>0.002901</td>\n",
       "      <td>0.003212</td>\n",
       "      <td>0.000130</td>\n",
       "      <td>0.000395</td>\n",
       "      <td>0.003511</td>\n",
       "      <td>...</td>\n",
       "      <td>-0.001691</td>\n",
       "      <td>-0.000076</td>\n",
       "      <td>-0.007119</td>\n",
       "      <td>-0.005107</td>\n",
       "      <td>0.004490</td>\n",
       "      <td>0.002079</td>\n",
       "      <td>-0.008748</td>\n",
       "      <td>3.0</td>\n",
       "      <td>555.89</td>\n",
       "      <td>16385</td>\n",
       "    </tr>\n",
       "    <tr>\n",
       "      <th>2</th>\n",
       "      <td>-0.000802</td>\n",
       "      <td>0.005518</td>\n",
       "      <td>0.000127</td>\n",
       "      <td>-0.001518</td>\n",
       "      <td>0.000134</td>\n",
       "      <td>-0.004479</td>\n",
       "      <td>-0.004880</td>\n",
       "      <td>0.006123</td>\n",
       "      <td>-0.006633</td>\n",
       "      <td>-0.001231</td>\n",
       "      <td>...</td>\n",
       "      <td>-0.001346</td>\n",
       "      <td>-0.001567</td>\n",
       "      <td>-0.002435</td>\n",
       "      <td>-0.000735</td>\n",
       "      <td>-0.003391</td>\n",
       "      <td>-0.003053</td>\n",
       "      <td>-0.004107</td>\n",
       "      <td>2.0</td>\n",
       "      <td>317.20</td>\n",
       "      <td>16386</td>\n",
       "    </tr>\n",
       "    <tr>\n",
       "      <th>3</th>\n",
       "      <td>-0.005391</td>\n",
       "      <td>0.015644</td>\n",
       "      <td>-0.004082</td>\n",
       "      <td>-0.003939</td>\n",
       "      <td>-0.008420</td>\n",
       "      <td>0.011472</td>\n",
       "      <td>0.004777</td>\n",
       "      <td>-0.008016</td>\n",
       "      <td>-0.004426</td>\n",
       "      <td>-0.002977</td>\n",
       "      <td>...</td>\n",
       "      <td>-0.000977</td>\n",
       "      <td>-0.001947</td>\n",
       "      <td>0.006017</td>\n",
       "      <td>0.001629</td>\n",
       "      <td>0.000297</td>\n",
       "      <td>-0.001326</td>\n",
       "      <td>0.008040</td>\n",
       "      <td>1.0</td>\n",
       "      <td>94.36</td>\n",
       "      <td>16387</td>\n",
       "    </tr>\n",
       "    <tr>\n",
       "      <th>4</th>\n",
       "      <td>-0.001008</td>\n",
       "      <td>-0.000639</td>\n",
       "      <td>0.007787</td>\n",
       "      <td>0.007223</td>\n",
       "      <td>-0.005374</td>\n",
       "      <td>-0.002158</td>\n",
       "      <td>-0.005113</td>\n",
       "      <td>-0.000930</td>\n",
       "      <td>0.003693</td>\n",
       "      <td>0.000047</td>\n",
       "      <td>...</td>\n",
       "      <td>-0.001022</td>\n",
       "      <td>-0.003962</td>\n",
       "      <td>-0.005251</td>\n",
       "      <td>0.000252</td>\n",
       "      <td>0.002528</td>\n",
       "      <td>-0.000787</td>\n",
       "      <td>0.003751</td>\n",
       "      <td>4.0</td>\n",
       "      <td>1382.07</td>\n",
       "      <td>16389</td>\n",
       "    </tr>\n",
       "  </tbody>\n",
       "</table>\n",
       "<p>5 rows × 103 columns</p>\n",
       "</div>"
      ],
      "text/plain": [
       "     lcol_1    lcol_2    lcol_3    lcol_4    lcol_5    lcol_6    lcol_7  \\\n",
       "0  0.006207 -0.010461  0.003782 -0.003536 -0.009066  0.000214 -0.003928   \n",
       "1 -0.001737 -0.002224 -0.003980  0.002041  0.002156  0.002901  0.003212   \n",
       "2 -0.000802  0.005518  0.000127 -0.001518  0.000134 -0.004479 -0.004880   \n",
       "3 -0.005391  0.015644 -0.004082 -0.003939 -0.008420  0.011472  0.004777   \n",
       "4 -0.001008 -0.000639  0.007787  0.007223 -0.005374 -0.002158 -0.005113   \n",
       "\n",
       "     lcol_8    lcol_9   lcol_10    ...      lcol_94   lcol_95   lcol_96  \\\n",
       "0  0.001535  0.005195 -0.001614    ...    -0.005508 -0.004601  0.000400   \n",
       "1  0.000130  0.000395  0.003511    ...    -0.001691 -0.000076 -0.007119   \n",
       "2  0.006123 -0.006633 -0.001231    ...    -0.001346 -0.001567 -0.002435   \n",
       "3 -0.008016 -0.004426 -0.002977    ...    -0.000977 -0.001947  0.006017   \n",
       "4 -0.000930  0.003693  0.000047    ...    -0.001022 -0.003962 -0.005251   \n",
       "\n",
       "    lcol_97   lcol_98   lcol_99  lcol_100  lcol_101  lcol_102  Customer  \n",
       "0  0.004732 -0.003386 -0.002999  0.009700       2.0    584.50     16384  \n",
       "1 -0.005107  0.004490  0.002079 -0.008748       3.0    555.89     16385  \n",
       "2 -0.000735 -0.003391 -0.003053 -0.004107       2.0    317.20     16386  \n",
       "3  0.001629  0.000297 -0.001326  0.008040       1.0     94.36     16387  \n",
       "4  0.000252  0.002528 -0.000787  0.003751       4.0   1382.07     16389  \n",
       "\n",
       "[5 rows x 103 columns]"
      ]
     },
     "execution_count": 37,
     "metadata": {},
     "output_type": "execute_result"
    }
   ],
   "source": [
    "dfc.head()"
   ]
  },
  {
   "cell_type": "code",
   "execution_count": null,
   "metadata": {},
   "outputs": [],
   "source": []
  }
 ],
 "metadata": {
  "kernelspec": {
   "display_name": "Python 2",
   "language": "python",
   "name": "python2"
  },
  "language_info": {
   "codemirror_mode": {
    "name": "ipython",
    "version": 2
   },
   "file_extension": ".py",
   "mimetype": "text/x-python",
   "name": "python",
   "nbconvert_exporter": "python",
   "pygments_lexer": "ipython2",
   "version": "2.7.15"
  }
 },
 "nbformat": 4,
 "nbformat_minor": 2
}
