{
 "cells": [
  {
   "cell_type": "markdown",
   "metadata": {},
   "source": [
    "## Generate Invoice Embeddings\n",
    "To generate the invoice embeddings run the Starspace model on the pre-processed input file that lists the invoices associated with each user. This is the output of the notebook preprocessing_model_1_retail. \n",
    "<img src = gen_embeddings.png style=\"height:60%;\">"
   ]
  },
  {
   "cell_type": "markdown",
   "metadata": {},
   "source": [
    "## Create a Lookup to Retrieve Representation for a Given Invoice"
   ]
  },
  {
   "cell_type": "code",
   "execution_count": 16,
   "metadata": {},
   "outputs": [],
   "source": [
    "import os\n",
    "import dask.dataframe as dd\n",
    "import pandas as pd\n",
    "os.chdir(\"/home/admin123/Starspace/\")\n",
    "fp = \"/home/admin123/Starspace/\"+ \"data/pagespace.tsv\"\n",
    "df = pd.read_csv(fp, sep = \"\\t\", header = None)"
   ]
  },
  {
   "cell_type": "markdown",
   "metadata": {},
   "source": [
    "### Implementation Notes:\n",
    "The generated invoice embeddings are 100 columns long for each invoice. The first column in the datafile is the invoice and the other 100 columns are the latent representation. So we first setup the column names accordingly in the pandas dataframe. Note that the separator has to be a tab and the header should be set to None (no headers in the generated file). The following lines set up the header for the generated invoice embedding file"
   ]
  },
  {
   "cell_type": "code",
   "execution_count": 17,
   "metadata": {},
   "outputs": [],
   "source": [
    "rep_cols = [\"lcol_\" + str(i+1) for i in range(100)]\n",
    "cols = [\"itemcode\"] + rep_cols\n",
    "df.columns = cols"
   ]
  },
  {
   "cell_type": "markdown",
   "metadata": {},
   "source": [
    "### Implementation Notes:\n",
    "Create a lookup in the form of a python dictionary with the Invoice as key and the representation for the invoice as a 100 element long list. Note the use of the transpose. This is required."
   ]
  },
  {
   "cell_type": "code",
   "execution_count": 18,
   "metadata": {},
   "outputs": [],
   "source": [
    "item_dict = df.set_index(\"itemcode\").T.to_dict('list')\n",
    "del df"
   ]
  },
  {
   "cell_type": "markdown",
   "metadata": {},
   "source": [
    "### Determine Invoices For Each Customer"
   ]
  },
  {
   "cell_type": "code",
   "execution_count": 19,
   "metadata": {},
   "outputs": [],
   "source": [
    "fp = \"/home/admin123/Starspace/\"+ \"data/Online_Retail.csv\"\n",
    "df = pd.read_csv(fp)\n",
    "df = df[-df['InvoiceNo'].str.startswith(\"C\")]\n",
    "df = df[-df['StockCode'].str.startswith(\"BANK\")]\n",
    "req_cols = [\"CustomerID\", \"InvoiceNo\", \"StockCode\"]\n",
    "df = df[req_cols]\n",
    "df = df.dropna()\n",
    "df[\"CustomerID\"] = df[\"CustomerID\"].astype(int)\n",
    "fpp = \"/home/admin123/Starspace/data/Online_Retail_CustInvoices.txt\"\n",
    "prefix = \"itemcode_\"\n",
    "customer_items = dict()\n",
    "sep = \",\"\n",
    "od1 = dict(tuple(df.groupby([\"CustomerID\"])))\n",
    "for customer in od1.keys():\n",
    "    df_cust_items = od1[(customer)]\n",
    "    cust_items = df_cust_items[\"StockCode\"].unique().tolist()\n",
    "    cust_items = [prefix + inv for inv in cust_items]\n",
    "    customer_items[customer] = cust_items"
   ]
  },
  {
   "cell_type": "markdown",
   "metadata": {},
   "source": [
    "### Determine User Representation\n",
    "The representation of a user is the average of his or her invoices."
   ]
  },
  {
   "cell_type": "code",
   "execution_count": 20,
   "metadata": {},
   "outputs": [],
   "source": [
    "#Uncomment lines below and run this if you want to free up memory\n",
    "#del df ## to free up memory\n",
    "#del od1"
   ]
  },
  {
   "cell_type": "code",
   "execution_count": 21,
   "metadata": {},
   "outputs": [],
   "source": [
    "import numpy as np\n",
    "cust_rep = dict()\n",
    "for cust in customer_items:\n",
    "    inv_list = customer_items[cust]\n",
    "    inv_as_list_np_arr = [item_dict[i] for i in inv_list]\n",
    "    inv_as_np_arr = np.array(inv_as_list_np_arr)\n",
    "    avg_rep = np.mean(inv_as_np_arr, axis = 0)\n",
    "    cust_rep[cust] = avg_rep     "
   ]
  },
  {
   "cell_type": "code",
   "execution_count": 22,
   "metadata": {},
   "outputs": [],
   "source": [
    "import matplotlib.pyplot as plt\n",
    "import seaborn as sns"
   ]
  },
  {
   "cell_type": "code",
   "execution_count": 23,
   "metadata": {},
   "outputs": [],
   "source": [
    "dfc = pd.DataFrame(cust_rep.values())"
   ]
  },
  {
   "cell_type": "code",
   "execution_count": 24,
   "metadata": {},
   "outputs": [],
   "source": [
    "dfc[\"Customer\"] = cust_rep.keys()"
   ]
  },
  {
   "cell_type": "code",
   "execution_count": 25,
   "metadata": {},
   "outputs": [],
   "source": [
    "rep_cols = [\"lcol_\" + str(i+1) for i in range(100)]\n",
    "cols = rep_cols + [\"Customer\"]\n",
    "dfc.columns = cols"
   ]
  },
  {
   "cell_type": "markdown",
   "metadata": {},
   "source": [
    "### Visualize the Customer Embeddings Using tSNE"
   ]
  },
  {
   "cell_type": "code",
   "execution_count": 26,
   "metadata": {},
   "outputs": [],
   "source": [
    "from sklearn.manifold import TSNE\n",
    "tsne = TSNE(n_components=2, random_state=0)"
   ]
  },
  {
   "cell_type": "markdown",
   "metadata": {},
   "source": [
    "### Implementation Notes:\n",
    "The following embedding can take about 5-7 minutes to run, so please be patient."
   ]
  },
  {
   "cell_type": "code",
   "execution_count": 27,
   "metadata": {},
   "outputs": [
    {
     "name": "stderr",
     "output_type": "stream",
     "text": [
      "/home/admin123/anaconda/lib/python2.7/site-packages/ipykernel_launcher.py:1: FutureWarning: Method .as_matrix will be removed in a future version. Use .values instead.\n",
      "  \"\"\"Entry point for launching an IPython kernel.\n"
     ]
    }
   ],
   "source": [
    "X_2d = tsne.fit_transform(dfc[rep_cols].as_matrix())"
   ]
  },
  {
   "cell_type": "code",
   "execution_count": 29,
   "metadata": {},
   "outputs": [
    {
     "data": {
      "image/png": "[encoded data removed]",
      "text/plain": [
       "<Figure size 432x288 with 1 Axes>"
      ]
     },
     "metadata": {},
     "output_type": "display_data"
    }
   ],
   "source": [
    "%matplotlib inline\n",
    "plt.scatter(X_2d[:, 0], X_2d[:, 1])\n",
    "plt.xlabel(\"Latent Dim 1\")\n",
    "plt.ylabel(\"Latent Dim 2\")\n",
    "plt.show()"
   ]
  },
  {
   "cell_type": "markdown",
   "metadata": {},
   "source": [
    "### Observations\n",
    "Clearly the dataset shows a complex clustering patter. Two concentric clusters are seen. This suggests two user segments. So perhaps clustering the embeddings with a kernel k-means algorithm is appropriate. To gain insight, we must cluster the dataset with an appropriate clustering algorithm and then profile the clusters."
   ]
  },
  {
   "cell_type": "code",
   "execution_count": 30,
   "metadata": {},
   "outputs": [],
   "source": [
    "os.chdir(\"/home/admin123/Starspace/\")\n",
    "fpc = \"/home/admin123/Starspace/\"+ \"data/customer_rep.csv\"\n",
    "dfc.to_csv(fpc, index = False)"
   ]
  },
  {
   "cell_type": "code",
   "execution_count": null,
   "metadata": {},
   "outputs": [],
   "source": []
  }
 ],
 "metadata": {
  "kernelspec": {
   "display_name": "Python 2",
   "language": "python",
   "name": "python2"
  },
  "language_info": {
   "codemirror_mode": {
    "name": "ipython",
    "version": 2
   },
   "file_extension": ".py",
   "mimetype": "text/x-python",
   "name": "python",
   "nbconvert_exporter": "python",
   "pygments_lexer": "ipython2",
   "version": "2.7.15"
  }
 },
 "nbformat": 4,
 "nbformat_minor": 2
}
