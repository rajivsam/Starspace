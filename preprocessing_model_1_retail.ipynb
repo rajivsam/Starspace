{
 "cells": [
  {
   "cell_type": "markdown",
   "metadata": {},
   "source": [
    "## Pre-processing\n",
    "The next segment performs the following:\n",
    "1. Import the required libraries\n",
    "2. Set the working directory to the Starspace directory. We can navigate using that as reference.\n",
    "3. Read the data file\n",
    "4. Drop the rows with missing values. We have an abundance of quality data, we can do away with the ones with missing data\n",
    "5. Use the right data types for the attributes.\n",
    "6. Subset the dataset so that we only use the attributes required for Starspace.\n"
   ]
  },
  {
   "cell_type": "code",
   "execution_count": 1,
   "metadata": {},
   "outputs": [],
   "source": [
    "import os\n",
    "import dask.dataframe as dd\n",
    "import pandas as pd\n",
    "os.chdir(\"/home/admin123/Starspace/\")\n",
    "fp = \"/home/admin123/Starspace/\"+ \"data/Online_Retail.csv\"\n",
    "df = pd.read_csv(fp)\n",
    "df = df[-df['InvoiceNo'].str.startswith(\"C\")]\n",
    "df = df[-df['StockCode'].str.startswith(\"BANK\")]\n",
    "req_cols = [\"CustomerID\", \"InvoiceNo\", \"StockCode\"]\n",
    "df = df[req_cols]\n",
    "df = df.dropna()\n",
    "df[\"CustomerID\"] = df[\"CustomerID\"].astype(int)\n",
    "df = df.sort_values(by=['CustomerID'])"
   ]
  },
  {
   "cell_type": "markdown",
   "metadata": {},
   "source": [
    "### Note:\n",
    "An embeddifng is a representation of a data point in a Euclidean space. An embedding in a $\\mathbf{R}^p$ space has $p$ real components. An embedding determines a latent representation of the data elements. This latent representation is unobserved and is typically of smaller dimension than the original dataset.  "
   ]
  },
  {
   "cell_type": "markdown",
   "metadata": {},
   "source": [
    "## The Starspace Embedding Model\n",
    "We will use the page space/page embedding model described in https://github.com/facebookresearch/StarSpace to generate the embeddings associated with the items. As described in the link, a user is represented by the pages he or she fans. In this example, pages map to invoices and the words in the pages are items purchased in a particular invoice. The page embedding model learns the embeddings for the page. Analogously, we will learn the embeddings for the invoice. Recall that an invoice represents a collection of items purchased together. A user is represented by the average of the invoices associated with his/her purchases.  "
   ]
  },
  {
   "cell_type": "code",
   "execution_count": 2,
   "metadata": {},
   "outputs": [],
   "source": [
    "od1 = dict(tuple(df.groupby([\"CustomerID\"])))"
   ]
  },
  {
   "cell_type": "code",
   "execution_count": 3,
   "metadata": {},
   "outputs": [],
   "source": [
    "fpp = \"/home/admin123/Starspace/data/Online_Retail_CustInvoices.txt\"\n",
    "prefix = \"itemcode_\"\n",
    "customer_invoices = dict()\n",
    "sep = \" \"\n",
    "for customer in od1.keys():\n",
    "    df_cust_invoice = od1[(customer)]\n",
    "    cust_invoices = df_cust_invoice[\"StockCode\"].unique().tolist()\n",
    "    cust_invoices = [prefix + inv for inv in cust_invoices]\n",
    "    current_invoices = sep.join(cust_invoices)\n",
    "    customer_invoices[customer] = current_invoices\n",
    "\n",
    "        \n",
    "all_lines = list()\n",
    "\n",
    "for cust in customer_invoices:\n",
    "    record = customer_invoices[cust]\n",
    "    record = record + \"\\n\"\n",
    "    all_lines.append(record)\n",
    "\n",
    "\n",
    "\n",
    "fo = open(fpp, \"w+\")\n",
    "fo.seek(0, 2)\n",
    "lines_written = fo.writelines(all_lines)\n",
    "# Close opened file\n",
    "fo.close()"
   ]
  },
  {
   "cell_type": "code",
   "execution_count": null,
   "metadata": {},
   "outputs": [],
   "source": [
    "df[df['StockCode'].str.startswith(\"BANK\")].shape"
   ]
  },
  {
   "cell_type": "code",
   "execution_count": 4,
   "metadata": {},
   "outputs": [
    {
     "data": {
      "text/plain": [
       "(397912, 3)"
      ]
     },
     "execution_count": 4,
     "metadata": {},
     "output_type": "execute_result"
    }
   ],
   "source": [
    "df.shape"
   ]
  },
  {
   "cell_type": "code",
   "execution_count": null,
   "metadata": {},
   "outputs": [],
   "source": [
    "df.shape"
   ]
  },
  {
   "cell_type": "code",
   "execution_count": null,
   "metadata": {},
   "outputs": [],
   "source": []
  }
 ],
 "metadata": {
  "kernelspec": {
   "display_name": "Python 2",
   "language": "python",
   "name": "python2"
  },
  "language_info": {
   "codemirror_mode": {
    "name": "ipython",
    "version": 2
   },
   "file_extension": ".py",
   "mimetype": "text/x-python",
   "name": "python",
   "nbconvert_exporter": "python",
   "pygments_lexer": "ipython2",
   "version": "2.7.15"
  }
 },
 "nbformat": 4,
 "nbformat_minor": 2
}
