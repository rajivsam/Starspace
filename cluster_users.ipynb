{
 "cells": [
  {
   "cell_type": "code",
   "execution_count": 15,
   "metadata": {},
   "outputs": [],
   "source": [
    "import numpy as np\n",
    "import time\n",
    "from hdbscan import HDBSCAN\n",
    "from sklearn.cluster import DBSCAN\n",
    "from sklearn import metrics\n",
    "from sklearn.preprocessing import StandardScaler\n",
    "import os\n",
    "import pandas as pd\n",
    "from sklearn.decomposition import PCA\n",
    "fpc = \"/home/admin123/Starspace/\"+ \"data/customer_rep.csv\"\n",
    "df = pd.read_csv(fpc)"
   ]
  },
  {
   "cell_type": "code",
   "execution_count": 16,
   "metadata": {},
   "outputs": [],
   "source": [
    "req_cols = list(set(list(df.columns)) - set(list([\"Customer\"])))\n",
    "X = df[req_cols].values\n",
    "X = StandardScaler().fit_transform(X)"
   ]
  },
  {
   "cell_type": "code",
   "execution_count": 23,
   "metadata": {},
   "outputs": [],
   "source": [
    "# Compute DBSCAN\n",
    "hdb_t1 = time.time()\n",
    "hdb = HDBSCAN(min_cluster_size=3).fit(X)\n",
    "hdb_labels = hdb.labels_\n",
    "hdb_elapsed_time = time.time() - hdb_t1"
   ]
  },
  {
   "cell_type": "code",
   "execution_count": 24,
   "metadata": {},
   "outputs": [
    {
     "name": "stdout",
     "output_type": "stream",
     "text": [
      "\n",
      "\n",
      "++ HDBSCAN Results\n",
      "Estimated number of clusters: 17\n",
      "Elapsed time to cluster: 3.2448 s\n"
     ]
    }
   ],
   "source": [
    "# Number of clusters in labels, ignoring noise if present.\n",
    "n_clusters_hdb_ = len(set(hdb_labels)) - (1 if -1 in hdb_labels else 0)\n",
    "print('\\n\\n++ HDBSCAN Results')\n",
    "print('Estimated number of clusters: %d' % n_clusters_hdb_)\n",
    "print('Elapsed time to cluster: %.4f s' % hdb_elapsed_time)\n"
   ]
  },
  {
   "cell_type": "code",
   "execution_count": 25,
   "metadata": {},
   "outputs": [
    {
     "data": {
      "text/plain": [
       "array([-1, 15, 15, ..., 15, -1, 15])"
      ]
     },
     "execution_count": 25,
     "metadata": {},
     "output_type": "execute_result"
    }
   ],
   "source": [
    "hdb_labels"
   ]
  },
  {
   "cell_type": "code",
   "execution_count": null,
   "metadata": {},
   "outputs": [],
   "source": []
  }
 ],
 "metadata": {
  "kernelspec": {
   "display_name": "Python 2",
   "language": "python",
   "name": "python2"
  },
  "language_info": {
   "codemirror_mode": {
    "name": "ipython",
    "version": 2
   },
   "file_extension": ".py",
   "mimetype": "text/x-python",
   "name": "python",
   "nbconvert_exporter": "python",
   "pygments_lexer": "ipython2",
   "version": "2.7.15"
  }
 },
 "nbformat": 4,
 "nbformat_minor": 2
}
