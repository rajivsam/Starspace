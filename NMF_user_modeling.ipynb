{
 "cells": [
  {
   "cell_type": "code",
   "execution_count": 2,
   "metadata": {},
   "outputs": [],
   "source": [
    "import os\n",
    "import pandas as pd\n",
    "import matplotlib.pyplot as plt\n",
    "%matplotlib inline\n",
    "os.chdir(\"/home/admin123/Starspace/\")\n",
    "fp = \"/home/admin123/Starspace/\"+ \"data/Online_Retail.csv\"\n",
    "df = pd.read_csv(fp)\n",
    "df = df[-df['InvoiceNo'].str.startswith(\"C\")]\n",
    "df = df[-df['StockCode'].str.startswith(\"BANK\")]\n",
    "#req_cols = [\"CustomerID\", \"InvoiceNo\", \"StockCode\"]\n",
    "df = df.dropna(how ='any')\n",
    "df[\"CustomerID\"] = df[\"CustomerID\"].astype(int)\n",
    "req_cols = [\"CustomerID\", \"StockCode\"]\n",
    "df = df[req_cols]"
   ]
  },
  {
   "cell_type": "code",
   "execution_count": 34,
   "metadata": {},
   "outputs": [],
   "source": [
    "df_inv_summary = df.groupby([\"CustomerID\", \"StockCode\"]).agg({'StockCode':['count']}).reset_index()\n",
    "df_inv_summary.columns = [\"CustomerID\", \"StockCode\", \"Count\"]\n",
    "df_inv_summary[\"CustomerID\"] = df_inv_summary[\"CustomerID\"].astype('category')\n",
    "df_inv_summary[\"StockCode\"] = df_inv_summary[\"StockCode\"].astype('category')"
   ]
  },
  {
   "cell_type": "code",
   "execution_count": 31,
   "metadata": {},
   "outputs": [],
   "source": [
    "n_users = len(df_inv_summary[\"CustomerID\"].unique())\n",
    "n_items = len(df_inv_summary[\"StockCode\"].unique())"
   ]
  },
  {
   "cell_type": "code",
   "execution_count": 35,
   "metadata": {},
   "outputs": [],
   "source": [
    "from scipy.sparse import coo_matrix\n",
    "import numpy as np\n",
    "X = coo_matrix((df_inv_summary['Count'].astype(float), \n",
    "                   (df_inv_summary['CustomerID'].cat.codes, \n",
    "                    df_inv_summary['StockCode'].cat.codes)))"
   ]
  },
  {
   "cell_type": "code",
   "execution_count": 41,
   "metadata": {},
   "outputs": [
    {
     "data": {
      "text/plain": [
       "array([1., 1., 1., 1., 4., 1., 1., 1., 1., 2., 2., 1., 1., 2., 1., 1., 5.,\n",
       "       3., 1., 2., 2., 1., 1., 3., 4., 1., 1., 4., 2., 3., 6., 3., 2., 1.,\n",
       "       4., 1., 3., 1., 3., 1., 1., 1., 1., 1., 2., 4., 3., 5., 3., 2., 1.,\n",
       "       1., 1., 2., 1., 1., 1., 1., 2., 1., 3., 3., 1., 2., 1., 1., 1., 2.,\n",
       "       1., 2., 2., 1., 1., 2., 1., 1., 1., 1., 1., 1., 1., 2., 2., 1., 3.,\n",
       "       1., 1., 1., 1., 5., 1., 1., 2., 1., 2., 3., 3., 1., 1., 1.])"
      ]
     },
     "execution_count": 41,
     "metadata": {},
     "output_type": "execute_result"
    }
   ],
   "source": [
    "X.data[:100]"
   ]
  },
  {
   "cell_type": "code",
   "execution_count": 49,
   "metadata": {},
   "outputs": [],
   "source": [
    "from sklearn.decomposition import NMF\n",
    "n_components = 5\n",
    "nmf = NMF(n_components=n_components, random_state=1,\n",
    "          alpha=.1, l1_ratio=.5).fit(X)"
   ]
  },
  {
   "cell_type": "code",
   "execution_count": 50,
   "metadata": {},
   "outputs": [
    {
     "data": {
      "text/plain": [
       "854.0623802030015"
      ]
     },
     "execution_count": 50,
     "metadata": {},
     "output_type": "execute_result"
    }
   ],
   "source": [
    "nmf.reconstruction_err_"
   ]
  },
  {
   "cell_type": "code",
   "execution_count": 52,
   "metadata": {},
   "outputs": [],
   "source": [
    " W = nmf.fit_transform(X)"
   ]
  },
  {
   "cell_type": "code",
   "execution_count": 53,
   "metadata": {},
   "outputs": [
    {
     "data": {
      "text/plain": [
       "(4338, 5)"
      ]
     },
     "execution_count": 53,
     "metadata": {},
     "output_type": "execute_result"
    }
   ],
   "source": [
    "W.shape"
   ]
  },
  {
   "cell_type": "code",
   "execution_count": 54,
   "metadata": {},
   "outputs": [],
   "source": [
    "H = nmf.components_\n"
   ]
  },
  {
   "cell_type": "code",
   "execution_count": 55,
   "metadata": {},
   "outputs": [
    {
     "data": {
      "text/plain": [
       "(5, 3664)"
      ]
     },
     "execution_count": 55,
     "metadata": {},
     "output_type": "execute_result"
    }
   ],
   "source": [
    "H.shape"
   ]
  },
  {
   "cell_type": "code",
   "execution_count": 56,
   "metadata": {},
   "outputs": [
    {
     "data": {
      "text/plain": [
       "array([0.00081157, 0.2528113 , 0.02310999, 0.0872074 , 0.        ])"
      ]
     },
     "execution_count": 56,
     "metadata": {},
     "output_type": "execute_result"
    }
   ],
   "source": [
    "W[:5, 0]"
   ]
  },
  {
   "cell_type": "code",
   "execution_count": 59,
   "metadata": {},
   "outputs": [],
   "source": [
    "from hdbscan import HDBSCAN\n",
    "from sklearn.cluster import DBSCAN\n",
    "from sklearn import metrics\n",
    "import time\n",
    "from sklearn.preprocessing import StandardScaler"
   ]
  },
  {
   "cell_type": "code",
   "execution_count": 60,
   "metadata": {},
   "outputs": [],
   "source": [
    "hdb_t1 = time.time()\n",
    "hdb = HDBSCAN(min_cluster_size=5).fit(W)\n",
    "hdb_labels = hdb.labels_\n",
    "hdb_elapsed_time = time.time() - hdb_t1"
   ]
  },
  {
   "cell_type": "code",
   "execution_count": 61,
   "metadata": {},
   "outputs": [
    {
     "name": "stdout",
     "output_type": "stream",
     "text": [
      "\n",
      "\n",
      "++ HDBSCAN Results\n",
      "Estimated number of clusters: 57\n",
      "Elapsed time to cluster: 0.2784 s\n"
     ]
    }
   ],
   "source": [
    "# Number of clusters in labels, ignoring noise if present.\n",
    "n_clusters_hdb_ = len(set(hdb_labels)) - (1 if -1 in hdb_labels else 0)\n",
    "print('\\n\\n++ HDBSCAN Results')\n",
    "print('Estimated number of clusters: %d' % n_clusters_hdb_)\n",
    "print('Elapsed time to cluster: %.4f s' % hdb_elapsed_time)"
   ]
  },
  {
   "cell_type": "code",
   "execution_count": 62,
   "metadata": {},
   "outputs": [],
   "source": [
    "from sklearn.manifold import TSNE\n",
    "tsne = TSNE(n_components=2, random_state=0)\n",
    "X_2d = tsne.fit_transform(W)\n"
   ]
  },
  {
   "cell_type": "code",
   "execution_count": 63,
   "metadata": {},
   "outputs": [
    {
     "data": {
      "image/png": "[encoded data removed]",
      "text/plain": [
       "<Figure size 432x288 with 1 Axes>"
      ]
     },
     "metadata": {},
     "output_type": "display_data"
    }
   ],
   "source": [
    "import matplotlib.pyplot as plt\n",
    "import seaborn as sns\n",
    "%matplotlib inline\n",
    "plt.scatter(X_2d[:, 0], X_2d[:, 1])\n",
    "plt.xlabel(\"Latent Dim 1\")\n",
    "plt.ylabel(\"Latent Dim 2\")\n",
    "plt.show()"
   ]
  },
  {
   "cell_type": "code",
   "execution_count": null,
   "metadata": {},
   "outputs": [],
   "source": []
  }
 ],
 "metadata": {
  "kernelspec": {
   "display_name": "Python 2",
   "language": "python",
   "name": "python2"
  },
  "language_info": {
   "codemirror_mode": {
    "name": "ipython",
    "version": 2
   },
   "file_extension": ".py",
   "mimetype": "text/x-python",
   "name": "python",
   "nbconvert_exporter": "python",
   "pygments_lexer": "ipython2",
   "version": "2.7.15"
  }
 },
 "nbformat": 4,
 "nbformat_minor": 2
}
