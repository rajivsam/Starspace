{
 "cells": [
  {
   "cell_type": "code",
   "execution_count": 34,
   "metadata": {},
   "outputs": [],
   "source": [
    "import pandas as pd\n",
    "import os "
   ]
  },
  {
   "cell_type": "code",
   "execution_count": 35,
   "metadata": {},
   "outputs": [],
   "source": [
    "os.chdir(\"/home/admin123/Starspace\")\n",
    "fp = \"pagespace.tsv\""
   ]
  },
  {
   "cell_type": "code",
   "execution_count": 36,
   "metadata": {},
   "outputs": [],
   "source": [
    "df = pd.read_table(fp, sep = \"\\t\", header = 0)"
   ]
  },
  {
   "cell_type": "code",
   "execution_count": 26,
   "metadata": {},
   "outputs": [],
   "source": [
    "df_sample = df.sample(500)"
   ]
  },
  {
   "cell_type": "code",
   "execution_count": 27,
   "metadata": {},
   "outputs": [],
   "source": [
    "item_codes = df_sample.iloc[:, 0]\n",
    "dfe = df_sample.iloc[:, 1:]"
   ]
  },
  {
   "cell_type": "code",
   "execution_count": 28,
   "metadata": {},
   "outputs": [
    {
     "data": {
      "text/html": [
       "<div>\n",
       "<style scoped>\n",
       "    .dataframe tbody tr th:only-of-type {\n",
       "        vertical-align: middle;\n",
       "    }\n",
       "\n",
       "    .dataframe tbody tr th {\n",
       "        vertical-align: top;\n",
       "    }\n",
       "\n",
       "    .dataframe thead th {\n",
       "        text-align: right;\n",
       "    }\n",
       "</style>\n",
       "<table border=\"1\" class=\"dataframe\">\n",
       "  <thead>\n",
       "    <tr style=\"text-align: right;\">\n",
       "      <th></th>\n",
       "      <th>0.00733382</th>\n",
       "      <th>-0.012532</th>\n",
       "      <th>-0.0393463</th>\n",
       "      <th>0.0158145</th>\n",
       "      <th>0.015244</th>\n",
       "      <th>-0.0337969</th>\n",
       "      <th>-0.0304553</th>\n",
       "      <th>0.00733741</th>\n",
       "      <th>0.0283074</th>\n",
       "      <th>-0.0343683</th>\n",
       "      <th>...</th>\n",
       "      <th>0.0332114</th>\n",
       "      <th>-0.0245237</th>\n",
       "      <th>-0.0471746</th>\n",
       "      <th>-0.0412277</th>\n",
       "      <th>0.0071448</th>\n",
       "      <th>-0.0129846</th>\n",
       "      <th>-0.0421561</th>\n",
       "      <th>-0.0388909</th>\n",
       "      <th>-0.0110678</th>\n",
       "      <th>-0.00756284</th>\n",
       "    </tr>\n",
       "  </thead>\n",
       "  <tbody>\n",
       "    <tr>\n",
       "      <th>1414</th>\n",
       "      <td>-0.003226</td>\n",
       "      <td>-0.022250</td>\n",
       "      <td>0.046391</td>\n",
       "      <td>-0.030818</td>\n",
       "      <td>-0.014280</td>\n",
       "      <td>0.027438</td>\n",
       "      <td>0.001752</td>\n",
       "      <td>-0.008356</td>\n",
       "      <td>-0.016797</td>\n",
       "      <td>0.032630</td>\n",
       "      <td>...</td>\n",
       "      <td>-0.022253</td>\n",
       "      <td>-0.016912</td>\n",
       "      <td>-0.021821</td>\n",
       "      <td>-0.019897</td>\n",
       "      <td>-0.010929</td>\n",
       "      <td>-0.041039</td>\n",
       "      <td>-0.006718</td>\n",
       "      <td>-0.008514</td>\n",
       "      <td>0.026227</td>\n",
       "      <td>0.015164</td>\n",
       "    </tr>\n",
       "    <tr>\n",
       "      <th>140</th>\n",
       "      <td>-0.061767</td>\n",
       "      <td>0.004544</td>\n",
       "      <td>-0.009628</td>\n",
       "      <td>0.017294</td>\n",
       "      <td>-0.001865</td>\n",
       "      <td>0.027120</td>\n",
       "      <td>-0.004050</td>\n",
       "      <td>-0.034402</td>\n",
       "      <td>-0.002432</td>\n",
       "      <td>-0.013442</td>\n",
       "      <td>...</td>\n",
       "      <td>-0.004939</td>\n",
       "      <td>-0.010670</td>\n",
       "      <td>-0.013103</td>\n",
       "      <td>-0.013617</td>\n",
       "      <td>-0.028110</td>\n",
       "      <td>0.042128</td>\n",
       "      <td>-0.013196</td>\n",
       "      <td>0.006192</td>\n",
       "      <td>-0.015586</td>\n",
       "      <td>-0.001751</td>\n",
       "    </tr>\n",
       "    <tr>\n",
       "      <th>637</th>\n",
       "      <td>-0.042625</td>\n",
       "      <td>0.021122</td>\n",
       "      <td>0.053253</td>\n",
       "      <td>-0.014159</td>\n",
       "      <td>0.048727</td>\n",
       "      <td>-0.034686</td>\n",
       "      <td>0.032103</td>\n",
       "      <td>-0.005260</td>\n",
       "      <td>-0.013187</td>\n",
       "      <td>0.003320</td>\n",
       "      <td>...</td>\n",
       "      <td>-0.012620</td>\n",
       "      <td>-0.021213</td>\n",
       "      <td>0.068664</td>\n",
       "      <td>0.013150</td>\n",
       "      <td>-0.000014</td>\n",
       "      <td>-0.038509</td>\n",
       "      <td>-0.004838</td>\n",
       "      <td>0.036057</td>\n",
       "      <td>-0.008526</td>\n",
       "      <td>-0.016903</td>\n",
       "    </tr>\n",
       "    <tr>\n",
       "      <th>1647</th>\n",
       "      <td>-0.007518</td>\n",
       "      <td>-0.041003</td>\n",
       "      <td>0.003014</td>\n",
       "      <td>0.003636</td>\n",
       "      <td>0.003974</td>\n",
       "      <td>0.018741</td>\n",
       "      <td>-0.021789</td>\n",
       "      <td>-0.016394</td>\n",
       "      <td>0.043009</td>\n",
       "      <td>-0.051673</td>\n",
       "      <td>...</td>\n",
       "      <td>0.086806</td>\n",
       "      <td>-0.023165</td>\n",
       "      <td>-0.032836</td>\n",
       "      <td>-0.066101</td>\n",
       "      <td>0.009046</td>\n",
       "      <td>0.006235</td>\n",
       "      <td>0.020792</td>\n",
       "      <td>0.000896</td>\n",
       "      <td>-0.049776</td>\n",
       "      <td>-0.031638</td>\n",
       "    </tr>\n",
       "    <tr>\n",
       "      <th>3016</th>\n",
       "      <td>-0.013370</td>\n",
       "      <td>0.000279</td>\n",
       "      <td>0.000914</td>\n",
       "      <td>0.006986</td>\n",
       "      <td>-0.000085</td>\n",
       "      <td>0.006594</td>\n",
       "      <td>0.010217</td>\n",
       "      <td>0.007696</td>\n",
       "      <td>-0.005933</td>\n",
       "      <td>0.010283</td>\n",
       "      <td>...</td>\n",
       "      <td>0.007158</td>\n",
       "      <td>0.009646</td>\n",
       "      <td>-0.006709</td>\n",
       "      <td>0.028622</td>\n",
       "      <td>0.004969</td>\n",
       "      <td>-0.012086</td>\n",
       "      <td>-0.044180</td>\n",
       "      <td>-0.007332</td>\n",
       "      <td>-0.014735</td>\n",
       "      <td>0.003391</td>\n",
       "    </tr>\n",
       "  </tbody>\n",
       "</table>\n",
       "<p>5 rows × 100 columns</p>\n",
       "</div>"
      ],
      "text/plain": [
       "      0.00733382  -0.012532  -0.0393463  0.0158145  0.015244  -0.0337969  \\\n",
       "1414   -0.003226  -0.022250    0.046391  -0.030818 -0.014280    0.027438   \n",
       "140    -0.061767   0.004544   -0.009628   0.017294 -0.001865    0.027120   \n",
       "637    -0.042625   0.021122    0.053253  -0.014159  0.048727   -0.034686   \n",
       "1647   -0.007518  -0.041003    0.003014   0.003636  0.003974    0.018741   \n",
       "3016   -0.013370   0.000279    0.000914   0.006986 -0.000085    0.006594   \n",
       "\n",
       "      -0.0304553  0.00733741  0.0283074  -0.0343683     ...       0.0332114  \\\n",
       "1414    0.001752   -0.008356  -0.016797    0.032630     ...       -0.022253   \n",
       "140    -0.004050   -0.034402  -0.002432   -0.013442     ...       -0.004939   \n",
       "637     0.032103   -0.005260  -0.013187    0.003320     ...       -0.012620   \n",
       "1647   -0.021789   -0.016394   0.043009   -0.051673     ...        0.086806   \n",
       "3016    0.010217    0.007696  -0.005933    0.010283     ...        0.007158   \n",
       "\n",
       "      -0.0245237  -0.0471746  -0.0412277  0.0071448  -0.0129846  -0.0421561  \\\n",
       "1414   -0.016912   -0.021821   -0.019897  -0.010929   -0.041039   -0.006718   \n",
       "140    -0.010670   -0.013103   -0.013617  -0.028110    0.042128   -0.013196   \n",
       "637    -0.021213    0.068664    0.013150  -0.000014   -0.038509   -0.004838   \n",
       "1647   -0.023165   -0.032836   -0.066101   0.009046    0.006235    0.020792   \n",
       "3016    0.009646   -0.006709    0.028622   0.004969   -0.012086   -0.044180   \n",
       "\n",
       "      -0.0388909  -0.0110678  -0.00756284  \n",
       "1414   -0.008514    0.026227     0.015164  \n",
       "140     0.006192   -0.015586    -0.001751  \n",
       "637     0.036057   -0.008526    -0.016903  \n",
       "1647    0.000896   -0.049776    -0.031638  \n",
       "3016   -0.007332   -0.014735     0.003391  \n",
       "\n",
       "[5 rows x 100 columns]"
      ]
     },
     "execution_count": 28,
     "metadata": {},
     "output_type": "execute_result"
    }
   ],
   "source": [
    "dfe.head()"
   ]
  },
  {
   "cell_type": "code",
   "execution_count": 29,
   "metadata": {},
   "outputs": [],
   "source": [
    "from sklearn.manifold import TSNE\n",
    "tsne = TSNE(n_components=2, random_state=0)"
   ]
  },
  {
   "cell_type": "code",
   "execution_count": 30,
   "metadata": {},
   "outputs": [],
   "source": [
    "X_2d = tsne.fit_transform(dfe)"
   ]
  },
  {
   "cell_type": "code",
   "execution_count": 32,
   "metadata": {},
   "outputs": [],
   "source": [
    "%matplotlib inline\n",
    "from matplotlib import pyplot as plt"
   ]
  },
  {
   "cell_type": "code",
   "execution_count": 33,
   "metadata": {},
   "outputs": [
    {
     "data": {
      "text/plain": [
       "<matplotlib.collections.PathCollection at 0x7fd4f3479190>"
      ]
     },
     "execution_count": 33,
     "metadata": {},
     "output_type": "execute_result"
    },
    {
     "data": {
      "image/png": "[encoded data removed]",
      "text/plain": [
       "<Figure size 432x288 with 1 Axes>"
      ]
     },
     "metadata": {},
     "output_type": "display_data"
    }
   ],
   "source": [
    "plt.scatter(X_2d[:, 0], X_2d[:, 1])"
   ]
  },
  {
   "cell_type": "code",
   "execution_count": 37,
   "metadata": {},
   "outputs": [
    {
     "data": {
      "text/plain": [
       "(3665, 101)"
      ]
     },
     "execution_count": 37,
     "metadata": {},
     "output_type": "execute_result"
    }
   ],
   "source": [
    "df.shape"
   ]
  },
  {
   "cell_type": "code",
   "execution_count": null,
   "metadata": {},
   "outputs": [],
   "source": []
  }
 ],
 "metadata": {
  "kernelspec": {
   "display_name": "Python 2",
   "language": "python",
   "name": "python2"
  },
  "language_info": {
   "codemirror_mode": {
    "name": "ipython",
    "version": 2
   },
   "file_extension": ".py",
   "mimetype": "text/x-python",
   "name": "python",
   "nbconvert_exporter": "python",
   "pygments_lexer": "ipython2",
   "version": "2.7.15"
  }
 },
 "nbformat": 4,
 "nbformat_minor": 2
}
